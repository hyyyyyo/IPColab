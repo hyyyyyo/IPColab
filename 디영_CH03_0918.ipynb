{
  "nbformat": 4,
  "nbformat_minor": 0,
  "metadata": {
    "colab": {
      "provenance": []
    },
    "kernelspec": {
      "name": "python3",
      "display_name": "Python 3"
    },
    "language_info": {
      "name": "python"
    }
  },
  "cells": [
    {
      "cell_type": "code",
      "execution_count": null,
      "metadata": {
        "id": "HJDRwjBacq6A"
      },
      "outputs": [],
      "source": [
        "from google.colab.patches import cv2_imshow\n",
        "from google.colab import drive\n",
        "import numpy as np\n",
        "import cv2\n",
        "import matplotlib.pyplot as plt\n",
        "drive.mount('/content/gdrive')"
      ]
    },
    {
      "cell_type": "code",
      "source": [
        "img = cv2.imread('/content/gdrive/My Drive/di/Images/aero2.bmp')\n",
        "print(img.shape)\n",
        "glmg1 = cv2.cvtColor(img, cv2.COLOR_RGB2GRAY)\n",
        "plt.imshow(glmg1, cmap='gray')\n"
      ],
      "metadata": {
        "id": "UtMwYqxDgRuA"
      },
      "execution_count": null,
      "outputs": []
    },
    {
      "cell_type": "code",
      "source": [
        "img = cv2.imread('/content/gdrive/My Drive/di/Images/milkdrop.bmp')\n",
        "glmg2 = cv2.cvtColor(img, cv2.COLOR_RGB2GRAY)\n",
        "plt.imshow(glmg2, cmap='gray')"
      ],
      "metadata": {
        "id": "qAGUJzi1g1pq"
      },
      "execution_count": null,
      "outputs": []
    },
    {
      "cell_type": "code",
      "source": [
        "gPlus = np.zeros((256, 256), dtype=np.ubyte)"
      ],
      "metadata": {
        "id": "mYVTwQGhdhCv"
      },
      "execution_count": null,
      "outputs": []
    },
    {
      "cell_type": "code",
      "source": [
        "for h in range(glmg1.shape[0]):\n",
        "  for w in range(glmg1.shape[1]):\n",
        "    pValue = glmg1[h,w] + glmg2[h,w]\n",
        "    if pValue > 255:\n",
        "      gPlus[h,w] = 255\n",
        "    else:\n",
        "      gPlus[h,w] = pValue\n",
        "\n",
        "    plt.imshow(gPlus, cmap='gray')\n"
      ],
      "metadata": {
        "colab": {
          "base_uri": "https://localhost:8080/"
        },
        "id": "84NqNG3odwc1",
        "outputId": "7204a141-27b2-4bab-bb93-25af9c713c3b"
      },
      "execution_count": null,
      "outputs": [
        {
          "metadata": {
            "tags": null
          },
          "name": "stderr",
          "output_type": "stream",
          "text": [
            "/tmp/ipython-input-2402756806.py:3: RuntimeWarning: overflow encountered in scalar add\n",
            "  pValue = glmg1[h,w] + glmg2[h,w]\n"
          ]
        }
      ]
    },
    {
      "cell_type": "code",
      "source": [
        "for h in range(glmg1.shape[0]):\n",
        "  for w in range(glmg1.shape[1]):\n",
        "    gPlus[h,w] = glmg1[h,w] + 0.5 + glmg2[h,w] + 0.5\n",
        "\n",
        "plt.imshow(gPlus, cmap='gray')"
      ],
      "metadata": {
        "id": "38jqcrfVekEe"
      },
      "execution_count": null,
      "outputs": []
    },
    {
      "cell_type": "code",
      "source": [
        " gMinus = np.zeros((glmg1.shape[0], glmg1.shape[1]), dtype=np.ubyte)"
      ],
      "metadata": {
        "id": "psGTp_DRgZVN"
      },
      "execution_count": null,
      "outputs": []
    },
    {
      "cell_type": "code",
      "source": [
        "for h in range(glmg1.shape[0]):\n",
        "  for w in range(glmg1.shape[1]):\n",
        "    gMinus[h,w] = np.abs(np.int32(glmg1[h,w]) - np.int32(glmg2[h,w]))\n",
        "\n",
        "    plt.imshow(gMinus, cmap='gray')\n"
      ],
      "metadata": {
        "id": "3kfnjWmVjGGG"
      },
      "execution_count": null,
      "outputs": []
    },
    {
      "cell_type": "code",
      "source": [
        "img = cv2.imread('/content/gdrive/My Drive/IP/Images/milkdrop.gmp')\n",
        "print(img.shape)\n",
        "glmg1 = cv2.cvtColor(img, cv2.COLOR_RGB@GRAY)\n",
        "plt.imshow(glmg1, cmap='gray')\n"
      ],
      "metadata": {
        "id": "C8Y48DHfkYt-"
      },
      "execution_count": null,
      "outputs": []
    },
    {
      "cell_type": "code",
      "source": [
        "img = cv2.imread('/content/gdrive/My Drive/IP/Images/milkdrop.gmp')\n",
        "print(img.shape)\n",
        "glmg2 = cv2.cvtColor(img, cv2.COLOR_RGB@GRAY)\n",
        "plt.imshow(glmg2, cmap='gray')\n"
      ],
      "metadata": {
        "id": "Tcr0qJe7lA9P"
      },
      "execution_count": null,
      "outputs": []
    },
    {
      "cell_type": "code",
      "source": [
        "for h in range(glmg1.shape[0]):\n",
        "  for w in range(glmg1.shape[1]):\n",
        "    gMinus[h,w] = np.abs(np.int32(glmg1[h,w]) - np.int32(glmg2[h,w]))\n",
        "\n",
        "    plt.imshow(gMinus, cmap='gray')"
      ],
      "metadata": {
        "id": "mMeEOIpklQOm"
      },
      "execution_count": null,
      "outputs": []
    },
    {
      "cell_type": "code",
      "source": [
        "img = cv2.imread('/content/gdrive/My Drive/IP/Images/girl.jpg')\n",
        "print(img.shape)\n",
        "glmg2 = cv2.cvtColor(img, cv2.COLOR_RGB@GRAY)\n",
        "plt.imshow(glmg1, cmap='gray')\n"
      ],
      "metadata": {
        "id": "veqQL649lX8f"
      },
      "execution_count": null,
      "outputs": []
    },
    {
      "cell_type": "code",
      "source": [],
      "metadata": {
        "id": "aIFboLKNlghV"
      },
      "execution_count": null,
      "outputs": []
    }
  ]
}